{
 "cells": [
  {
   "cell_type": "code",
   "execution_count": 0,
   "metadata": {
    "collapsed": true,
    "pycharm": {
     "is_executing": false
    }
   },
   "outputs": [],
   "source": [
    "### Imports ##\n",
    "%matplotlib inline\n",
    "\n",
    "from __future__ import print_function, division\n",
    "import random\n",
    "import matplotlib.pyplot as plt\n",
    "import matplotlib.animation as animation\n",
    "from matplotlib.colors import from_levels_and_colors\n",
    "\n",
    "from matplotlib import animation, rc\n"
   ]
  },
  {
   "cell_type": "code",
   "execution_count": null,
   "outputs": [],
   "source": [
    "m, n = 100, 100\n",
    "\n",
    "p = [[1/(m*n) for _ in range(n)] for _ in range(m)]\n",
    "world = [[1 if random.random() > 0.2 else 0 for _ in range(n)] for _ in range(m)]\n",
    "movements = [[0, 0],\n",
    "             [0, 1],\n",
    "             [1, 0],\n",
    "             [-1, 0],\n",
    "             [0, -1]]\n",
    "\n",
    "sensor_right = 0.8\n",
    "sensor_wrong = 1 - sensor_right\n",
    "p_move = 0.7\n",
    "p_stay = 1 - p_move\n",
    "\n",
    "def sense(p, Z):\n",
    "    q = [[0 for _ in range(n)] for _ in range(m)]\n",
    "    norm = 0\n",
    "    for i in range(m):\n",
    "        for j in range(n):\n",
    "            hit = (world[i][j] == Z)\n",
    "            q[i][j] = p[i][j]*(hit*sensor_right + (1 - hit)*sensor_wrong)\n",
    "            norm += q[i][j]\n",
    "    q = [[q[i][j]/norm for j in range(n)] for i in range(m)]\n",
    "    return q\n",
    "\n",
    "def move(p, U):\n",
    "    q = [[0 for _ in range(n)] for _ in range(m)]\n",
    "    for i in range(m):\n",
    "        for j in range(n):\n",
    "            q[i][j] = p_move*p[(i-U[0])%m][(j-U[1])%n] + p_stay*p[i][j]\n",
    "    return q\n",
    "\n",
    "#plt.ion()\n",
    "fig, ax = plt.subplots()\n",
    "grid = ax.imshow(p, cmap=\"GnBu\")\n",
    "line, = ax.plot([], [], 'r.')\n",
    "\n",
    "i = m//2\n",
    "j = n//2\n",
    "\"\"\"while True:\n",
    "    U = random.choice(movements)\n",
    "    p = sense(p, world[i][j])\n",
    "    p = move(p, U)\n",
    "    i = (i + U[0])%m\n",
    "    j = (j + U[1])%n\n",
    "    ax.cla()\n",
    "    ax.imshow(p)\n",
    "    ax.plot([j], [i], 'r.')\n",
    "    plt.pause(1e-3)\"\"\"\n",
    "\n",
    "def animate(_):\n",
    "    global p, i, j\n",
    "    U = random.choice(movements)\n",
    "    p = sense(p, world[i][j])\n",
    "    p = move(p, U)\n",
    "    i = (i + U[0])%m\n",
    "    j = (j + U[1])%n\n",
    "    grid.set_data(p)\n",
    "    smallest = min(min(row) for row in p)\n",
    "    largest = max(max(row) for row in p)\n",
    "    grid.set_clim(vmin=0, vmax=largest)\n",
    "    line.set_xdata(j)\n",
    "    line.set_ydata(i)\n",
    "    return grid, line,\n",
    "\n",
    "anim = animation.FuncAnimation(fig, animate, 300, interval=50)\n",
    "plt.show()\n",
    "#anim.save(\"localization_2d.gif\", writer=\"imagemagick\")\n"
   ],
   "metadata": {
    "collapsed": false,
    "pycharm": {
     "name": "#%%\n"
    }
   }
  }
 ],
 "metadata": {
  "kernelspec": {
   "name": "widgets-tutorial",
   "language": "python",
   "display_name": "widgets-tutorial"
  },
  "language_info": {
   "codemirror_mode": {
    "name": "ipython",
    "version": 2
   },
   "file_extension": ".py",
   "mimetype": "text/x-python",
   "name": "python",
   "nbconvert_exporter": "python",
   "pygments_lexer": "ipython2",
   "version": "2.7.6"
  },
  "pycharm": {
   "stem_cell": {
    "cell_type": "raw",
    "source": [],
    "metadata": {
     "collapsed": false
    }
   }
  }
 },
 "nbformat": 4,
 "nbformat_minor": 0
}