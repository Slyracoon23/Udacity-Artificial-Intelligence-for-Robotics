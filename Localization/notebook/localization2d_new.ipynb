{
 "cells": [
  {
   "cell_type": "code",
   "execution_count": 17,
   "metadata": {
    "pycharm": {
     "is_executing": false,
     "name": "#%%\n"
    }
   },
   "outputs": [],
   "source": [
    "import ipyvuetify as v"
   ]
  },
  {
   "cell_type": "code",
   "execution_count": 18,
   "metadata": {
    "pycharm": {
     "is_executing": false,
     "name": "#%%\n"
    }
   },
   "outputs": [],
   "source": [
    "### DEFINE IMPORTS  ## \n",
    "\n",
    "import ipywidgets as widgets\n",
    "from IPython.display import display\n",
    "import numpy as np\n",
    "from bqplot import pyplot as plt\n",
    "import random\n",
    "\n",
    "import bqplot as bq\n",
    "\n",
    "from ipywidgets import HBox, VBox, IntSlider, Play, jslink\n",
    "from ipywidgets import AppLayout, Button, Layout"
   ]
  },
  {
   "cell_type": "code",
   "execution_count": 19,
   "metadata": {
    "pycharm": {
     "is_executing": false,
     "name": "#%%\n"
    }
   },
   "outputs": [],
   "source": [
    "## DEFINE CONSTANTS ##\n",
    "\n",
    "# TODO: describe the constants\n",
    "\n",
    "m, n = 100, 100 # world grid \n",
    "\n",
    "p = [[1/(m*n) for _ in range(n)] for _ in range(m)] # each part of grid has uniform distribution\n",
    "world = [[1 if random.random() > 0.2 else 0 for _ in range(n)] for _ in range(m)] # add objects for sesning on 2d world\n",
    "movements = [[0, 0],\n",
    "             [0, 1],\n",
    "             [1, 0],\n",
    "             [-1, 0],\n",
    "             [0, -1]] # preprogrammed  movements\n",
    "\n",
    "sensor_right = 0.8 # propobility that the sensor is right when observing\n",
    "sensor_wrong = 1 - sensor_right # the propobility that the sensor is wrong when observing\n",
    "p_move = 0.7 # propobility that movement is done\n",
    "p_stay = 1 - p_move # propobilith that is hasn't moved \n"
   ]
  },
  {
   "cell_type": "code",
   "execution_count": 20,
   "metadata": {
    "pycharm": {
     "is_executing": false,
     "name": "#%%\n"
    }
   },
   "outputs": [],
   "source": [
    "## FUNCTIONS` ##\n",
    "\n",
    "def sense(p, Z):\n",
    "    q = [[0 for _ in range(n)] for _ in range(m)]\n",
    "    norm = 0\n",
    "    for i in range(m):\n",
    "        for j in range(n):\n",
    "            hit = (world[i][j] == Z)\n",
    "            q[i][j] = p[i][j]*(hit*sensor_right + (1 - hit)*sensor_wrong)\n",
    "            norm += q[i][j]\n",
    "    q = [[q[i][j]/norm for j in range(n)] for i in range(m)]\n",
    "    return q\n",
    "\n",
    "def move(p, U):\n",
    "    q = [[0 for _ in range(n)] for _ in range(m)]\n",
    "    for i in range(m):\n",
    "        for j in range(n):\n",
    "            q[i][j] = p_move*p[(i-U[0])%m][(j-U[1])%n] + p_stay*p[i][j]\n",
    "    return q\n",
    "\n",
    "def animate(_):\n",
    "    global p, i, j\n",
    "    U = random.choice(movements)\n",
    "    p = sense(p, world[i][j])\n",
    "    p = move(p, U)\n",
    "    i = (i + U[0])%m\n",
    "    j = (j + U[1])%n\n",
    "    grid.set_data(p)\n",
    "    smallest = min(min(row) for row in p)\n",
    "    largest = max(max(row) for row in p)\n",
    "    grid.set_clim(vmin=0, vmax=largest)\n",
    "    line.set_xdata(j)\n",
    "    line.set_ydata(i)\n",
    "    return grid, line,\n",
    "\n",
    "def init():\n",
    "    grid = ax.imshow(p, cmap=\"GnBu\")\n",
    "    line, = ax.plot([], [], 'r.')"
   ]
  },
  {
   "cell_type": "code",
   "execution_count": 21,
   "metadata": {
    "pycharm": {
     "is_executing": false,
     "name": "#%% \n"
    }
   },
   "outputs": [],
   "source": [
    "### WIDGET FUNCTIONS ###\n",
    "\n",
    "# TODO\n",
    "\n",
    "def simple_sensing_reset(b):\n",
    "    # Resets the velocity slider to 0 when the reset button is clicked \n",
    "    # Updated to also reset the labels appropriately. - jec 14oct2018\n",
    "    sensor_right_slider.value = 0.8\n",
    "    sensor_wrong_slider = 0.2\n",
    "    \n",
    "def simple_moving_reset(b):\n",
    "    # Resets the velocity slider to 0 when the reset button is clicked \n",
    "    # Updated to also reset the labels appropriately. - jec 14oct2018\n",
    "    p_move_slider.value = 0.7\n",
    "    p_stay_slider.value = 0.3\n",
    "    \n",
    "    \n"
   ]
  },
  {
   "cell_type": "code",
   "execution_count": 22,
   "metadata": {
    "pycharm": {
     "is_executing": false,
     "name": "#%%\n"
    }
   },
   "outputs": [
    {
     "data": {
      "application/vnd.jupyter.widget-view+json": {
       "model_id": "86cb4bfe212643328db630229b784456",
       "version_major": 2,
       "version_minor": 0
      },
      "text/plain": [
       "VBox(children=(VBox(children=(HTML(value='<b>Sensing Controls</b>:'), Button(description='Reset', style=Button…"
      ]
     },
     "metadata": {},
     "output_type": "display_data"
    },
    {
     "data": {
      "application/vnd.jupyter.widget-view+json": {
       "model_id": "144a4143a60c455f9e4444e5da312ef1",
       "version_major": 2,
       "version_minor": 0
      },
      "text/plain": [
       "AppLayout(children=(Button(description='Header', layout=Layout(grid_area='header', height='auto', width='auto'…"
      ]
     },
     "metadata": {},
     "output_type": "display_data"
    }
   ],
   "source": [
    "## INTERACTIVE/DISPLAY WIDGETS ##\n",
    "\n",
    "# TODO|\n",
    "\n",
    "# Initialize slider size\n",
    "ControlColWidth = '450px'\n",
    "slider_width = '300px'\n",
    "slider_width = '300px'\n",
    "readout_width = '70px'\n",
    "\n",
    "# Create slider titles\n",
    "sensing_control_title = widgets.HTML('<b>Sensing Controls</b>:')\n",
    "moving_control_title = widgets.HTML('<b>Moving Controls</b>:')\n",
    "play_control_title = widgets.HTML('<b>Play Controls</b>:')\n",
    "\n",
    "##\n",
    "## Create control for selecting Figure\n",
    "##\n",
    "        ## Sensing ##\n",
    "sensor_right_slider = widgets.FloatSlider(value=sensor_right,\n",
    "                                    min=0,\n",
    "                                    max=1,\n",
    "                                    step=0.1,\n",
    "                                    disabled=False,\n",
    "                                    continuous_update=True,\n",
    "                                    style = {'description_width': 'initial'},\n",
    "                                    description = 'Sensor Wrong Value',\n",
    "                                    orientation='horizontal',\n",
    "                                    readout=False,\n",
    "                                    readout_format='.1f',\n",
    "                                    layout=widgets.Layout(width=slider_width,\n",
    "                                                           overflow_x='visible', overflow_y='visible')\n",
    "\n",
    "                                    )\n",
    "\n",
    "\n",
    "sensor_wrong_slider = widgets.FloatSlider(value=sensor_wrong,\n",
    "                                    min=0,\n",
    "                                    max=1,\n",
    "                                    step=0.1,\n",
    "                                    disabled=False,\n",
    "                                    continuous_update=True,\n",
    "                                    style = {'description_width': 'initial'},\n",
    "                                    description = 'Sensor Wrong Value',\n",
    "                                    orientation='horizontal',\n",
    "                                    readout=False,\n",
    "                                    readout_format='.1f',\n",
    "                                    layout=widgets.Layout(width=slider_width,\n",
    "                                                           overflow_x='visible', overflow_y='visible')\n",
    "                                    )\n",
    "\n",
    "        ## Moving ##\n",
    "p_move_slider = widgets.FloatSlider(value=p_move,\n",
    "                                    min=0,\n",
    "                                    max=1,\n",
    "                                    step=0.1,\n",
    "                                    disabled=False,\n",
    "                                    continuous_update=True,\n",
    "                                    style = {'description_width': 'initial'},\n",
    "                                    description = 'P Move Value',\n",
    "                                    orientation='horizontal',\n",
    "                                    readout=False,\n",
    "                                    readout_format='.1f',\n",
    "                                    layout=widgets.Layout(width=slider_width,\n",
    "                                                           overflow_x='visible', overflow_y='visible')\n",
    "                                    )\n",
    "p_stay_slider = widgets.FloatSlider(value=p_stay,\n",
    "                                    min=0,\n",
    "                                    max=1,\n",
    "                                    step=0.1,\n",
    "                                    disabled=False,\n",
    "                                    continuous_update=True,\n",
    "                                    style = {'description_width': 'initial'},\n",
    "                                    description = 'P Stay Value',\n",
    "                                    orientation='horizontal',\n",
    "                                    readout=False,\n",
    "                                    readout_format='.1f',\n",
    "                                    layout=widgets.Layout(width=slider_width,\n",
    "                                                           overflow_x='visible', overflow_y='visible')\n",
    "                                    )\n",
    "\n",
    "\n",
    "# Reset buttons\n",
    "reset_button_sensing = widgets.Button(description='Reset')\n",
    "reset_button_moving = widgets.Button(description='Reset')\n",
    "\n",
    "\n",
    "# Play Button\n",
    "\n",
    "play_widget = widgets.Play(\n",
    "    value=0,\n",
    "    min=0,\n",
    "    max=100,\n",
    "    step=1,\n",
    "    interval=100,\n",
    "    description=\"Press play\",\n",
    "    disabled=False\n",
    ")\n",
    "\n",
    "\n",
    "# Arrow Button\n",
    "\n",
    "header        = Button(description=\"Header\",\n",
    "                       layout=Layout(width=\"auto\", height=\"auto\"))\n",
    "left_sidebar  = Button(description=\"Left Sidebar\",\n",
    "                       layout=Layout(width=\"auto\", height=\"auto\"))\n",
    "center        = Button(description=\"Center\",\n",
    "                       layout=Layout(width=\"auto\", height=\"auto\"))\n",
    "right_sidebar = Button(description=\"Right Sidebar\", \n",
    "                       layout=Layout(width=\"auto\", height=\"auto\"))\n",
    "footer        = Button(description=\"Footer\", \n",
    "                       layout=Layout(width=\"auto\", height=\"auto\"))\n",
    "\n",
    "arrow =AppLayout(header=header,\n",
    "          left_sidebar=left_sidebar,\n",
    "          center=center,\n",
    "          right_sidebar=right_sidebar,\n",
    "          footer=footer)\n",
    "\n",
    "\n",
    "# Define text boxes for readout\n",
    "    ## Sensing ##\n",
    "sensor_right_readout = widgets.BoundedFloatText(min=sensor_right_slider.min, max=sensor_right_slider.max, \n",
    "                                         value=sensor_right_slider.value, \n",
    "                                         layout=widgets.Layout(width=readout_width, \n",
    "                                                               overflow_x='visible', \n",
    "                                                               overflow_y='visible'))\n",
    "sensor_wrong_readout = widgets.BoundedFloatText(min=sensor_wrong_slider.min, max=sensor_wrong_slider.max, \n",
    "                                         value=sensor_wrong_slider.value,\n",
    "                                         layout=widgets.Layout(width=readout_width, \n",
    "                                                               overflow_x='visible', \n",
    "                                                               overflow_y='visible'))\n",
    "    ## Moving ##\n",
    "p_move_readout = widgets.BoundedFloatText(min=p_move_slider.min, max=p_move_slider.max, \n",
    "                                         value=p_move_slider.value, \n",
    "                                         layout=widgets.Layout(width=readout_width, \n",
    "                                                               overflow_x='visible', \n",
    "                                                               overflow_y='visible'))\n",
    "\n",
    "\n",
    "p_stay_readout = widgets.BoundedFloatText(min=p_stay_slider.min, max=p_stay_slider.max, \n",
    "                                         value=p_stay_slider.value, \n",
    "                                         layout=widgets.Layout(width=readout_width, \n",
    "                                                               overflow_x='visible', \n",
    "                                                               overflow_y='visible'))\n",
    "\n",
    "\n",
    "\n",
    "# Link slider and textboxes\n",
    "    ## sensing ##\n",
    "widgets.jslink((sensor_right_readout, 'value'), (sensor_right_slider,'value'))\n",
    "widgets.jslink((sensor_wrong_readout, 'value'), (sensor_wrong_slider,'value'))\n",
    "    ## moving ##\n",
    "widgets.jslink((p_stay_readout, 'value'), (p_stay_slider,'value'))\n",
    "widgets.jslink((p_move_readout, 'value'), (p_move_slider,'value'))\n",
    "\n",
    "\n",
    "\n",
    "# Box the sliders and textboxes\n",
    "    ## sensing ##\n",
    "box_hit = widgets.HBox([sensor_right_slider, sensor_right_readout])\n",
    "box_miss = widgets.HBox([sensor_wrong_slider, sensor_wrong_readout])\n",
    "\n",
    "\n",
    "box_exact = widgets.HBox([p_move_slider, p_move_readout])\n",
    "box_stay = widgets.HBox([p_stay_slider, p_stay_readout])\n",
    "\n",
    "\n",
    "vbox_sensing = widgets.VBox([sensing_control_title,reset_button_sensing,box_hit, box_miss])\n",
    "\n",
    "vbox_moving = widgets.VBox([moving_control_title,reset_button_moving,box_exact, box_stay ])\n",
    "\n",
    "## widget final layout ##\n",
    "controls_widget = widgets.VBox([vbox_sensing, vbox_moving, play_widget])\n",
    "\n",
    "display(controls_widget)\n",
    "\n",
    "display(arrow)"
   ]
  },
  {
   "cell_type": "code",
   "execution_count": 28,
   "metadata": {
    "pycharm": {
     "is_executing": false,
     "name": "#%%\n"
    }
   },
   "outputs": [
    {
     "data": {
      "application/vnd.jupyter.widget-view+json": {
       "model_id": "f2cbb32b216248ba8df551b517e2ff21",
       "version_major": 2,
       "version_minor": 0
      },
      "text/plain": [
       "Figure(axes=[Axis(grid_lines='none', label='Position', scale=LinearScale(max=100.0, min=0.0)), Axis(grid_lines…"
      ]
     },
     "metadata": {},
     "output_type": "display_data"
    }
   ],
   "source": [
    "\n",
    "########### SET UP 2-D LOCALIZATION HISTOGRAM PLOT ###############\n",
    "## using bqplot directly instead of plt API ##\n",
    "\n",
    "# determine maximum and minimum value of X and Y axes\n",
    "############## CODE  HERE ####################\n",
    "\n",
    "## World Color graph ##\n",
    "worldx_color_graph = bq.LinearScale(min=0, max=100)\n",
    "worldy_color_graph = bq.LinearScale(min=0, max=100)\n",
    "world_color = bq.ColorScale(scheme=\"GnBu\") # change this\n",
    "\n",
    "worldax_x_bar_graph = bq.Axis(label=\"Position\", scale=worldx_color_graph, grid_lines='none')\n",
    "worldax_y_bar_graph = bq.Axis(label=\"Position\", scale=worldy_color_graph, orientation='vertical', visible=True, grid_lines='none')\n",
    "world_color_axis = bq.ColorAxis(scale=world_color)\n",
    "\n",
    "# set up initial conditions\n",
    "############## CODE HERE ####################\n",
    "\n",
    " ## World Heatmap ##\n",
    "## get 2d numpy map of world map\n",
    "color = np.array(p)\n",
    "\n",
    "world_heat_graph = bq.HeatMap(x=np.arange(0,n), y=np.arange(0,m), color=color,\n",
    "               scales={'x': worldx_color_graph, 'y': worldy_color_graph, 'color': world_color})\n",
    "\n",
    "\n",
    "position_dot = bq.Scatter(x= [50], y=[50], scales={'x': worldx_color_graph, 'y': worldy_color_graph}, \n",
    "                   colors=['red'], stroke='red', default_size=20, fill= True, labels=['Initial Position'])\n",
    "\n",
    "##\n",
    "## Construct plot\n",
    "##\n",
    "\n",
    "    ## World Figure ##\n",
    "world_bar_graph_fig = bq.Figure(axes=[worldax_x_bar_graph, worldax_y_bar_graph],\n",
    "                          title='',\n",
    "                           marks=[world_heat_graph, position_dot],\n",
    "                         layout={'width': '700px', 'height': '700px', \n",
    "                             'max_width': '1200px', 'max_height': '1200px',\n",
    "                             'min_width': '600px', 'min_height': '600px', 'border':'none'},\n",
    "                                min_aspect_ratio=1, max_aspect_ratio=8, padding_y=0,\n",
    "                               fig_margin={'top':10, 'bottom':100, 'left': 60, 'right':30})  \n",
    "\n",
    "\n",
    "display(world_bar_graph_fig)"
   ]
  },
  {
   "cell_type": "code",
   "execution_count": 24,
   "metadata": {
    "pycharm": {
     "is_executing": false,
     "name": "#%%\n"
    }
   },
   "outputs": [],
   "source": [
    "## VOILA LAYOUT ##\n",
    "\n",
    "## run  $ voila --template=vuetify-default /path/to/file  \n",
    "\n",
    "\n"
   ]
  }
 ],
 "metadata": {
  "kernelspec": {
   "display_name": "widgets-tutorial",
   "language": "python",
   "name": "widgets-tutorial"
  },
  "language_info": {
   "codemirror_mode": {
    "name": "ipython",
    "version": 3
   },
   "file_extension": ".py",
   "mimetype": "text/x-python",
   "name": "python",
   "nbconvert_exporter": "python",
   "pygments_lexer": "ipython3",
   "version": "3.7.6"
  },
  "pycharm": {
   "stem_cell": {
    "cell_type": "raw",
    "metadata": {
     "collapsed": false
    },
    "source": []
   }
  }
 },
 "nbformat": 4,
 "nbformat_minor": 1
}
