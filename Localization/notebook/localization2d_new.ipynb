{
 "cells": [
  {
   "cell_type": "code",
   "execution_count": 3,
   "metadata": {
    "pycharm": {
     "name": "#%%\n"
    }
   },
   "outputs": [],
   "source": [
    "import ipyvuetify as v"
   ]
  },
  {
   "cell_type": "code",
   "execution_count": 5,
   "metadata": {
    "pycharm": {
     "name": "#%%\n"
    }
   },
   "outputs": [],
   "source": [
    "### DEFINE IMPORTS  ## \n",
    "\n",
    "import ipywidgets as widgets\n",
    "import numpy as np\n",
    "from bqplot import pyplot as plt\n",
    "import random\n",
    "\n",
    "import bqplot as bq\n",
    "\n",
    "from ipywidgets import HBox, VBox, IntSlider, Play, jslink\n"
   ]
  },
  {
   "cell_type": "code",
   "execution_count": 6,
   "metadata": {
    "pycharm": {
     "is_executing": false,
     "name": "#%%\n"
    }
   },
   "outputs": [],
   "source": [
    "## DEFINE CONSTANTS ##\n",
    "\n",
    "# TODO: describe the constants\n",
    "\n",
    "m, n = 100, 100 \n",
    "\n",
    "p = [[1/(m*n) for _ in range(n)] for _ in range(m)]\n",
    "world = [[1 if random.random() > 0.2 else 0 for _ in range(n)] for _ in range(m)]\n",
    "movements = [[0, 0],\n",
    "             [0, 1],\n",
    "             [1, 0],\n",
    "             [-1, 0],\n",
    "             [0, -1]]\n",
    "\n",
    "sensor_right = 0.8\n",
    "sensor_wrong = 1 - sensor_right\n",
    "p_move = 0.7\n",
    "p_stay = 1 - p_move\n"
   ]
  },
  {
   "cell_type": "code",
   "execution_count": 7,
   "metadata": {
    "pycharm": {
     "name": "#%%\n"
    }
   },
   "outputs": [],
   "source": [
    "## FUNCTIONS` ##\n",
    "\n",
    "def sense(p, Z):\n",
    "    q = [[0 for _ in range(n)] for _ in range(m)]\n",
    "    norm = 0\n",
    "    for i in range(m):\n",
    "        for j in range(n):\n",
    "            hit = (world[i][j] == Z)\n",
    "            q[i][j] = p[i][j]*(hit*sensor_right + (1 - hit)*sensor_wrong)\n",
    "            norm += q[i][j]\n",
    "    q = [[q[i][j]/norm for j in range(n)] for i in range(m)]\n",
    "    return q\n",
    "\n",
    "def move(p, U):\n",
    "    q = [[0 for _ in range(n)] for _ in range(m)]\n",
    "    for i in range(m):\n",
    "        for j in range(n):\n",
    "            q[i][j] = p_move*p[(i-U[0])%m][(j-U[1])%n] + p_stay*p[i][j]\n",
    "    return q\n",
    "\n",
    "def animate(_):\n",
    "    global p, i, j\n",
    "    U = random.choice(movements)\n",
    "    p = sense(p, world[i][j])\n",
    "    p = move(p, U)\n",
    "    i = (i + U[0])%m\n",
    "    j = (j + U[1])%n\n",
    "    grid.set_data(p)\n",
    "    smallest = min(min(row) for row in p)\n",
    "    largest = max(max(row) for row in p)\n",
    "    grid.set_clim(vmin=0, vmax=largest)\n",
    "    line.set_xdata(j)\n",
    "    line.set_ydata(i)\n",
    "    return grid, line,\n",
    "\n",
    "def init():\n",
    "    grid = ax.imshow(p, cmap=\"GnBu\")\n",
    "    line, = ax.plot([], [], 'r.')"
   ]
  },
  {
   "cell_type": "code",
   "execution_count": 2,
   "metadata": {
    "pycharm": {
     "is_executing": false,
     "name": "#%% \n"
    }
   },
   "outputs": [],
   "source": [
    "### WIDGET FUNCTIONS ###\n",
    "\n",
    "# TODO\n",
    "\n",
    "    "
   ]
  },
  {
   "cell_type": "code",
   "execution_count": null,
   "metadata": {
    "pycharm": {
     "name": "#%%\n"
    }
   },
   "outputs": [],
   "source": [
    "## INTERACTIVE/DISPLAY WIDGETS ##\n",
    "\n",
    "# TODO\n",
    "\n",
    "\n"
   ]
  },
  {
   "cell_type": "code",
   "execution_count": null,
   "metadata": {
    "pycharm": {
     "name": "#%%\n"
    }
   },
   "outputs": [],
   "source": [
    "## VOILA LAYOUT ##\n",
    "## run  $ voila --template=vuetify-default /path/to/file  \n",
    "\n",
    "\n",
    "\n"
   ]
  }
 ],
 "metadata": {
  "kernelspec": {
   "display_name": "Python 3",
   "language": "python",
   "name": "python3"
  },
  "language_info": {
   "codemirror_mode": {
    "name": "ipython",
    "version": 3
   },
   "file_extension": ".py",
   "mimetype": "text/x-python",
   "name": "python",
   "nbconvert_exporter": "python",
   "pygments_lexer": "ipython3",
   "version": "3.7.6"
  },
  "pycharm": {
   "stem_cell": {
    "cell_type": "raw",
    "metadata": {
     "collapsed": false
    },
    "source": []
   }
  }
 },
 "nbformat": 4,
 "nbformat_minor": 1
}
