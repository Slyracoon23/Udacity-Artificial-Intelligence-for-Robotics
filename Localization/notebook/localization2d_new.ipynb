{
 "cells": [
  {
   "cell_type": "code",
   "execution_count": 13,
   "metadata": {
    "pycharm": {
     "is_executing": false,
     "name": "#%%\n"
    }
   },
   "outputs": [],
   "source": [
    "import ipyvuetify as v"
   ]
  },
  {
   "cell_type": "code",
   "execution_count": 14,
   "metadata": {
    "pycharm": {
     "is_executing": false,
     "name": "#%%\n"
    }
   },
   "outputs": [],
   "source": [
    "### DEFINE IMPORTS  ## \n",
    "\n",
    "import ipywidgets as widgets\n",
    "from IPython.display import display\n",
    "import numpy as np\n",
    "from bqplot import pyplot as plt\n",
    "import random\n",
    "\n",
    "import bqplot as bq\n",
    "\n",
    "from ipywidgets import HBox, VBox, IntSlider, Play, jslink\n",
    "from ipywidgets import AppLayout, Button, Layout"
   ]
  },
  {
   "cell_type": "code",
   "execution_count": 15,
   "metadata": {
    "pycharm": {
     "is_executing": false,
     "name": "#%%\n"
    }
   },
   "outputs": [],
   "source": [
    "## DEFINE CONSTANTS ##\n",
    "\n",
    "# TODO: describe the constants\n",
    "\n",
    "m, n = 100, 100 # world grid \n",
    "\n",
    "p = [[1/(m*n) for _ in range(n)] for _ in range(m)] # each part of grid has uniform distribution\n",
    "world = [[1 if random.random() > 0.2 else 0 for _ in range(n)] for _ in range(m)] # add objects for sesning on 2d world\n",
    "movements = [[0, 0],\n",
    "             [0, 1],\n",
    "             [1, 0],\n",
    "             [-1, 0],\n",
    "             [0, -1]] # preprogrammed  movements\n",
    "\n",
    "sensor_right = 0.8 # propobility that the sensor is right when observing\n",
    "sensor_wrong = 1 - sensor_right # the propobility that the sensor is wrong when observing\n",
    "p_move = 0.7 # propobility that movement is done\n",
    "p_stay = 1 - p_move # propobilith that is hasn't moved \n"
   ]
  },
  {
   "cell_type": "code",
   "execution_count": 16,
   "metadata": {
    "pycharm": {
     "is_executing": false,
     "name": "#%%\n"
    }
   },
   "outputs": [],
   "source": [
    "## FUNCTIONS` ##\n",
    "\n",
    "def sense(p, Z):\n",
    "    q = [[0 for _ in range(n)] for _ in range(m)]\n",
    "    norm = 0\n",
    "    for i in range(m):\n",
    "        for j in range(n):\n",
    "            hit = (world[i][j] == Z)\n",
    "            q[i][j] = p[i][j]*(hit*sensor_right + (1 - hit)*sensor_wrong)\n",
    "            norm += q[i][j]\n",
    "    q = [[q[i][j]/norm for j in range(n)] for i in range(m)]\n",
    "    return q\n",
    "\n",
    "def move(p, U):\n",
    "    q = [[0 for _ in range(n)] for _ in range(m)]\n",
    "    for i in range(m):\n",
    "        for j in range(n):\n",
    "            q[i][j] = p_move*p[(i-U[0])%m][(j-U[1])%n] + p_stay*p[i][j]\n",
    "    return q\n",
    "\n",
    "def animate(_):\n",
    "    global p, i, j\n",
    "    U = random.choice(movements)\n",
    "    p = sense(p, world[i][j])\n",
    "    p = move(p, U)\n",
    "    i = (i + U[0])%m\n",
    "    j = (j + U[1])%n\n",
    "    grid.set_data(p)\n",
    "    smallest = min(min(row) for row in p)\n",
    "    largest = max(max(row) for row in p)\n",
    "    grid.set_clim(vmin=0, vmax=largest)\n",
    "    line.set_xdata(j)\n",
    "    line.set_ydata(i)\n",
    "    return grid, line,\n",
    "\n",
    "def init():\n",
    "    grid = ax.imshow(p, cmap=\"GnBu\")\n",
    "    line, = ax.plot([], [], 'r.')"
   ]
  },
  {
   "cell_type": "code",
   "execution_count": 17,
   "metadata": {
    "pycharm": {
     "is_executing": false,
     "name": "#%% \n"
    }
   },
   "outputs": [],
   "source": [
    "### WIDGET FUNCTIONS ###\n",
    "\n",
    "# TODO\n",
    "\n",
    "def simple_sensing_reset(b):\n",
    "    # Resets the velocity slider to 0 when the reset button is clicked \n",
    "    # Updated to also reset the labels appropriately. - jec 14oct2018\n",
    "    sensor_right_slider.value = 0.8\n",
    "    sensor_wrong_slider = 0.2\n",
    "    \n",
    "def simple_moving_reset(b):\n",
    "    # Resets the velocity slider to 0 when the reset button is clicked \n",
    "    # Updated to also reset the labels appropriately. - jec 14oct2018\n",
    "    p_move_slider.value = 0.7\n",
    "    p_stay_slider.value = 0.3\n",
    "    \n",
    "    \n"
   ]
  },
  {
   "cell_type": "code",
   "execution_count": 18,
   "metadata": {
    "pycharm": {
     "is_executing": false,
     "name": "#%%\n"
    }
   },
   "outputs": [],
   "source": [
    "## INTERACTIVE/DISPLAY WIDGETS ##\n",
    "\n",
    "# TODO|\n",
    "\n",
    "# Initialize slider size\n",
    "ControlColWidth = '450px'\n",
    "slider_width = '300px'\n",
    "slider_width = '300px'\n",
    "readout_width = '70px'\n",
    "\n",
    "# Create slider titles\n",
    "sensing_control_title = widgets.HTML('<b>Sensing Controls</b>:')\n",
    "moving_control_title = widgets.HTML('<b>Moving Controls</b>:')\n",
    "play_control_title = widgets.HTML('<b>Play Controls</b>:')\n",
    "\n",
    "##\n",
    "## Create control for selecting Figure\n",
    "##\n",
    "        ## Sensing ##\n",
    "sensor_right_slider = widgets.FloatSlider(value=sensor_right,\n",
    "                                    min=0,\n",
    "                                    max=1,\n",
    "                                    step=0.1,\n",
    "                                    disabled=False,\n",
    "                                    continuous_update=True,\n",
    "                                    style = {'description_width': 'initial'},\n",
    "                                    description = 'Sensor Wrong Value',\n",
    "                                    orientation='horizontal',\n",
    "                                    readout=False,\n",
    "                                    readout_format='.1f',\n",
    "                                    layout=widgets.Layout(width=slider_width,\n",
    "                                                           overflow_x='visible', overflow_y='visible')\n",
    "\n",
    "                                    )\n",
    "\n",
    "\n",
    "sensor_wrong_slider = widgets.FloatSlider(value=sensor_wrong,\n",
    "                                    min=0,\n",
    "                                    max=1,\n",
    "                                    step=0.1,\n",
    "                                    disabled=False,\n",
    "                                    continuous_update=True,\n",
    "                                    style = {'description_width': 'initial'},\n",
    "                                    description = 'Sensor Wrong Value',\n",
    "                                    orientation='horizontal',\n",
    "                                    readout=False,\n",
    "                                    readout_format='.1f',\n",
    "                                    layout=widgets.Layout(width=slider_width,\n",
    "                                                           overflow_x='visible', overflow_y='visible')\n",
    "                                    )\n",
    "\n",
    "        ## Moving ##\n",
    "p_move_slider = widgets.FloatSlider(value=p_move,\n",
    "                                    min=0,\n",
    "                                    max=1,\n",
    "                                    step=0.1,\n",
    "                                    disabled=False,\n",
    "                                    continuous_update=True,\n",
    "                                    style = {'description_width': 'initial'},\n",
    "                                    description = 'P Move Value',\n",
    "                                    orientation='horizontal',\n",
    "                                    readout=False,\n",
    "                                    readout_format='.1f',\n",
    "                                    layout=widgets.Layout(width=slider_width,\n",
    "                                                           overflow_x='visible', overflow_y='visible')\n",
    "                                    )\n",
    "p_stay_slider = widgets.FloatSlider(value=p_stay,\n",
    "                                    min=0,\n",
    "                                    max=1,\n",
    "                                    step=0.1,\n",
    "                                    disabled=False,\n",
    "                                    continuous_update=True,\n",
    "                                    style = {'description_width': 'initial'},\n",
    "                                    description = 'P Stay Value',\n",
    "                                    orientation='horizontal',\n",
    "                                    readout=False,\n",
    "                                    readout_format='.1f',\n",
    "                                    layout=widgets.Layout(width=slider_width,\n",
    "                                                           overflow_x='visible', overflow_y='visible')\n",
    "                                    )\n",
    "\n",
    "\n",
    "# Reset buttons\n",
    "reset_button_sensing = widgets.Button(description='Reset')\n",
    "reset_button_moving = widgets.Button(description='Reset')\n",
    "\n",
    "\n",
    "# Play Button\n",
    "\n",
    "play = widgets.Play(\n",
    "    value=0,\n",
    "    min=0,\n",
    "    max=100,\n",
    "    step=1,\n",
    "    interval=100,\n",
    "    description=\"Press play\",\n",
    "    disabled=False\n",
    ")\n",
    "\n",
    "\n",
    "# Arrow Button\n",
    "\n",
    "header        = Button(description=\"Header\",\n",
    "                       layout=Layout(width=\"auto\", height=\"auto\"))\n",
    "left_sidebar  = Button(description=\"Left Sidebar\",\n",
    "                       layout=Layout(width=\"auto\", height=\"auto\"))\n",
    "center        = Button(description=\"Center\",\n",
    "                       layout=Layout(width=\"auto\", height=\"auto\"))\n",
    "right_sidebar = Button(description=\"Right Sidebar\", \n",
    "                       layout=Layout(width=\"auto\", height=\"auto\"))\n",
    "footer        = Button(description=\"Footer\", \n",
    "                       layout=Layout(width=\"auto\", height=\"auto\"))\n",
    "\n",
    "arrow =AppLayout(header=header,\n",
    "          left_sidebar=left_sidebar,\n",
    "          center=center,\n",
    "          right_sidebar=right_sidebar,\n",
    "          footer=footer)\n",
    "\n",
    "\n",
    "# Define text boxes for readout\n",
    "    ## Sensing ##\n",
    "sensor_right_readout = widgets.BoundedFloatText(min=sensor_right_slider.min, max=sensor_right_slider.max, \n",
    "                                         value=sensor_right_slider.value, \n",
    "                                         layout=widgets.Layout(width=readout_width, \n",
    "                                                               overflow_x='visible', \n",
    "                                                               overflow_y='visible'))\n",
    "sensor_wrong_readout = widgets.BoundedFloatText(min=sensor_wrong_slider.min, max=sensor_wrong_slider.max, \n",
    "                                         value=sensor_wrong_slider.value,\n",
    "                                         layout=widgets.Layout(width=readout_width, \n",
    "                                                               overflow_x='visible', \n",
    "                                                               overflow_y='visible'))\n",
    "    ## Moving ##\n",
    "p_move_readout = widgets.BoundedFloatText(min=p_move_slider.min, max=p_move_slider.max, \n",
    "                                         value=p_move_slider.value, \n",
    "                                         layout=widgets.Layout(width=readout_width, \n",
    "                                                               overflow_x='visible', \n",
    "                                                               overflow_y='visible'))\n",
    "\n",
    "\n",
    "p_stay_readout = widgets.BoundedFloatText(min=p_stay_slider.min, max=p_stay_slider.max, \n",
    "                                         value=p_stay_slider.value, \n",
    "                                         layout=widgets.Layout(width=readout_width, \n",
    "                                                               overflow_x='visible', \n",
    "                                                               overflow_y='visible'))\n",
    "\n",
    "\n",
    "\n",
    "display(arrow)\n",
    "\n"
   ]
  },
  {
   "cell_type": "code",
   "execution_count": 19,
   "metadata": {
    "pycharm": {
     "is_executing": false,
     "name": "#%%\n"
    }
   },
   "outputs": [],
   "source": [
    "## VOILA LAYOUT ##\n",
    "\n",
    "## run  $ voila --template=vuetify-default /path/to/file  \n",
    "\n",
    "\n"
   ]
  }
 ],
 "metadata": {
  "kernelspec": {
   "display_name": "widgets-tutorial",
   "language": "python",
   "name": "widgets-tutorial"
  },
  "language_info": {
   "codemirror_mode": {
    "name": "ipython",
    "version": 3
   },
   "file_extension": ".py",
   "mimetype": "text/x-python",
   "name": "python",
   "nbconvert_exporter": "python",
   "pygments_lexer": "ipython3",
   "version": "3.7.6"
  },
  "pycharm": {
   "stem_cell": {
    "cell_type": "raw",
    "source": [],
    "metadata": {
     "collapsed": false
    }
   }
  }
 },
 "nbformat": 4,
 "nbformat_minor": 1
}