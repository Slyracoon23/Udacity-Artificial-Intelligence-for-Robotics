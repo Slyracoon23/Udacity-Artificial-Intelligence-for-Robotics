{
 "cells": [
  {
   "cell_type": "code",
   "execution_count": 1,
   "metadata": {
    "pycharm": {
     "is_executing": false
    }
   },
   "outputs": [],
   "source": [
    "import ipyvuetify as v"
   ]
  },
  {
   "cell_type": "code",
   "execution_count": 14,
   "metadata": {
    "pycharm": {
     "is_executing": false
    }
   },
   "outputs": [],
   "source": [
    "# import ipywidgets as widgets\n",
    "# import numpy as np\n",
    "# from bqplot import pyplot as plt\n",
    "# import bqplot\n",
    "\n",
    "#might change it\n",
    "%matplotlib inline \n",
    "\n",
    "import random\n",
    "import matplotlib.pyplot as plt\n",
    "import matplotlib.animation as animation\n",
    "from matplotlib.colors import from_levels_and_colors\n",
    "\n",
    "from matplotlib import animation, rc\n",
    "from IPython.display import HTML\n",
    "\n",
    "# TODO clean it up"
   ]
  },
  {
   "cell_type": "code",
   "execution_count": 15,
   "metadata": {
    "pycharm": {
     "is_executing": false
    }
   },
   "outputs": [],
   "source": [
    "#Number of grid cells    \n",
    "n_cells = 100      \n",
    "    \n",
    "p_hit = 0.6    \n",
    "p_miss = 0.2    \n",
    "p_exact = 0.8    \n",
    "p_undershoot = 0.1    \n",
    "p_overshoot = 0.1    \n",
    "\n",
    "#Start with uniform probability distribution i.e. the robot could be anywhere    \n",
    "#p = n_cells * [1/n_cells]\n",
    "p = n_cells * [0]; p[0]=1\n",
    "\n"
   ]
  },
  {
   "cell_type": "code",
   "execution_count": 16,
   "metadata": {
    "pycharm": {
     "is_executing": false
    }
   },
   "outputs": [],
   "source": [
    "# create doors    \n",
    "# world = [1 if random.random() > 0.8 else 0 for _ in range(n_cells)]\n",
    "world =  n_cells * [0] \n",
    "\n",
    "colors = [\"white\", \"black\"]\n",
    "levels = [0, 1, 2]\n",
    "# set colors and normalization\n",
    "cmap, norm = from_levels_and_colors(levels, colors)\n"
   ]
  },
  {
   "cell_type": "code",
   "execution_count": 17,
   "metadata": {
    "pycharm": {
     "is_executing": false
    }
   },
   "outputs": [],
   "source": [
    "def sense(p, Z):    \n",
    "    q = []    \n",
    "    for i in range(n_cells):    \n",
    "        hit = (world[i] == Z)    \n",
    "        q.append(p[i]*(hit*p_hit + (1 - hit)*p_miss))    \n",
    "    norm = sum(q)                                                                                    \n",
    "    q = [q[i]/norm for i in range(n_cells)]                                                          \n",
    "    return q    \n"
   ]
  },
  {
   "cell_type": "code",
   "execution_count": 18,
   "metadata": {
    "pycharm": {
     "is_executing": false
    }
   },
   "outputs": [],
   "source": [
    "def move(p, U):                                                                                      \n",
    "    q = []                                                                                           \n",
    "    for i in range(n_cells):                                                                         \n",
    "        s = p_exact*p[(i-U)%len(p)]                                                                  \n",
    "        s += p_overshoot*p[(i-U-1)%len(p)]                                                           \n",
    "        s += p_undershoot*p[(i-U+1)%len(p)]                                                          \n",
    "        q.append(s)                                                                                  \n",
    "    return q    "
   ]
  },
  {
   "cell_type": "code",
   "execution_count": 19,
   "metadata": {
    "pycharm": {
     "is_executing": false
    }
   },
   "outputs": [],
   "source": [
    "def init():\n",
    "    prob_ax.set_xlim(0, n_cells-1)\n",
    "    prob_ax.set_ylim(0, 1)\n",
    "    world_ax.set_ylim(-2,3)\n",
    "    world_ax.set_xlabel(\"Position\")\n",
    "    prob_ax.set_ylabel(\"Probability\")\n",
    "    prob_ax.set_title(\"Histogram Localization With Measurements\")\n",
    "    return rects, line\n"
   ]
  },
  {
   "cell_type": "code",
   "execution_count": 20,
   "metadata": {
    "pycharm": {
     "is_executing": false
    }
   },
   "outputs": [],
   "source": [
    "def update(i):\n",
    "    global p\n",
    "    p = sense(p, world[i%100])\n",
    "    #print(p)\n",
    "    p = move(p, 1)\n",
    "    #print(p)\n",
    "    for rect, h in zip(rects, p):\n",
    "        rect.set_height(h)\n",
    "    line.set_xdata((i+1)%n_cells)\n",
    "    #input()\n",
    "    return rects, line"
   ]
  },
  {
   "cell_type": "code",
   "execution_count": 21,
   "metadata": {
    "pycharm": {
     "is_executing": false
    }
   },
   "outputs": [
    {
     "data": {
      "text/plain": [
       "(<BarContainer object of 100 artists>,\n",
       " <matplotlib.lines.Line2D at 0x7f59ebf17cd0>)"
      ]
     },
     "execution_count": 21,
     "metadata": {},
     "output_type": "execute_result"
    },
    {
     "data": {
      "image/png": "[encoded data removed]",
      "text/plain": [
       "<Figure size 432x288 with 2 Axes>"
      ]
     },
     "metadata": {
      "needs_background": "light"
     },
     "output_type": "display_data"
    }
   ],
   "source": [
    "fig, (prob_ax, world_ax) = plt.subplots(\n",
    "    nrows = 2,\n",
    "    ncols = 1,\n",
    "    gridspec_kw = { 'height_ratios': [10,1]},\n",
    "    sharex=True)\n",
    "# set world,(x,y) to be the same.\n",
    "world_ax.imshow([world, world], cmap=cmap, norm=norm, interpolation=None)\n",
    "# no y axis tick markers\n",
    "world_ax.get_yaxis().set_ticks([])\n",
    "x = [i for i in range(n_cells)]\n",
    "rects = prob_ax.bar(x, p)\n",
    "# point marker\n",
    "line, = world_ax.plot(0, 0.5, 'r.')\n",
    "\n",
    "init()"
   ]
  },
  {
   "cell_type": "code",
   "execution_count": 22,
   "metadata": {
    "pycharm": {
     "is_executing": false
    }
   },
   "outputs": [],
   "source": [
    "anim = animation.FuncAnimation(fig, update, frames=n_cells*3, interval=50, init_func=init)\n"
   ]
  },
  {
   "cell_type": "code",
   "execution_count": null,
   "metadata": {
    "pycharm": {
     "is_executing": false
    }
   },
   "outputs": [],
   "source": [
    "HTML(anim.to_html5_video())"
   ]
  },
  {
   "cell_type": "code",
   "execution_count": null,
   "metadata": {
    "pycharm": {
     "is_executing": false
    }
   },
   "outputs": [],
   "source": [
    "rc('animation', html='html5')\n",
    "anim"
   ]
  },
  {
   "cell_type": "code",
   "execution_count": null,
   "metadata": {
    "pycharm": {
     "is_executing": false
    }
   },
   "outputs": [],
   "source": []
  }
 ],
 "metadata": {
  "kernelspec": {
   "display_name": "widgets-tutorial",
   "language": "python",
   "name": "widgets-tutorial"
  },
  "language_info": {
   "codemirror_mode": {
    "name": "ipython",
    "version": 3
   },
   "file_extension": ".py",
   "mimetype": "text/x-python",
   "name": "python",
   "nbconvert_exporter": "python",
   "pygments_lexer": "ipython3",
   "version": "3.7.6"
  },
  "pycharm": {
   "stem_cell": {
    "cell_type": "raw",
    "metadata": {
     "collapsed": false
    },
    "source": []
   }
  }
 },
 "nbformat": 4,
 "nbformat_minor": 4
}
