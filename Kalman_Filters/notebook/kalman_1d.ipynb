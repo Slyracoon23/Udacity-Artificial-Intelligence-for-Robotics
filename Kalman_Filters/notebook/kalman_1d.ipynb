{
 "cells": [
  {
   "cell_type": "code",
   "execution_count": 1,
   "outputs": [
    {
     "data": {
      "text/plain": "<Figure size 432x288 with 1 Axes>",
      "image/png": "[encoded data removed]"
     },
     "metadata": {
      "needs_background": "light"
     },
     "output_type": "display_data"
    }
   ],
   "source": [
    "from __future__ import print_function, division\n",
    "from random import gauss\n",
    "from math import sqrt, exp, pi\n",
    "import matplotlib.pyplot as plt\n",
    "import matplotlib.animation as animation\n",
    "\n",
    "def f(mean, var, x):\n",
    "    return exp(-0.5*(x-mean)**2/var)/sqrt(2*pi*var)\n",
    "\n",
    "def update(mean1, var1, mean2, var2):\n",
    "    new_mean = (var2*mean1 + var1*mean2)/(var1 + var2)\n",
    "    new_var = 1/(1/var1 + 1/var2)\n",
    "    return new_mean, new_var\n",
    "\n",
    "def predict(mean1, var1, mean2, var2):\n",
    "    new_mean = mean1 + mean2\n",
    "    new_var = var1 + var2\n",
    "    return new_mean, new_var\n",
    "\n",
    "measurement_var = 0.5\n",
    "motion_var = 0.5\n",
    "measurements = [gauss(i, measurement_var) for i in range(50)]\n",
    "motion = [gauss(1, motion_var) for i in range(50)]\n",
    "mean = 0\n",
    "var = 10000\n",
    "x_pts = [i/10 for i in range(500)]\n",
    "\n",
    "#plt.ion()\n",
    "fig, ax = plt.subplots()\n",
    "\n",
    "'''for meas, move in zip(measurements, motion):\n",
    "    mean, var = predict(mean, var, move, motion_var)\n",
    "    y1 = [f(mean, var, x) for x in x_pts]\n",
    "    mean, var = update(mean, var, meas, measurement_var)\n",
    "    y2 = [f(meas, measurement_var, x) for x in x_pts]\n",
    "    y3 = [f(mean, var, x) for x in x_pts]\n",
    "    ax.cla()\n",
    "    ax.plot(x_pts, y1, 'r-')\n",
    "    ax.plot(x_pts, y2, 'g-')\n",
    "    ax.plot(x_pts, y3, 'b-')\n",
    "    ax.set_xlim(0, 50)\n",
    "    ax.set_ylim(0, 1)\n",
    "    ax.legend((\"Prediction\", \"Measurement\", \"Update\"))\n",
    "    plt.pause(1e-1)'''\n",
    "\n",
    "y1, = ax.plot(x_pts,x_pts)\n",
    "y2, = ax.plot(x_pts,x_pts)\n",
    "y3, = ax.plot(x_pts,x_pts)\n",
    "def animate(i):\n",
    "    global mean, var\n",
    "    mean, var = predict(mean, var, motion[i], motion_var)\n",
    "    y1_pts = [f(mean, var, x) for x in x_pts]\n",
    "    mean, var = update(mean, var, measurements[i], measurement_var)\n",
    "    y2_pts = [f(measurements[i], measurement_var, x) for x in x_pts]\n",
    "    y3_pts = [f(mean, var, x) for x in x_pts]\n",
    "    y1.set_ydata(y1_pts)\n",
    "    y2.set_ydata(y2_pts)\n",
    "    y3.set_ydata(y3_pts)\n",
    "    return y1, y2, y3,\n",
    "\n",
    "def init():\n",
    "    ax.set_xlim(0, 50)\n",
    "    ax.set_ylim(0, 1)\n",
    "    ax.legend((\"Prediction\", \"Measurement\", \"Update\"))\n",
    "    return y1, y2, y3,\n",
    "\n",
    "anim = animation.FuncAnimation(fig, animate, 50, interval=100, init_func=init)\n",
    "#plt.show()\n",
    "anim.save(\"kalman_1d.gif\", writer=\"imagemagick\")\n",
    "\n"
   ],
   "metadata": {
    "collapsed": false,
    "pycharm": {
     "name": "#%%\n"
    }
   }
  }
 ],
 "metadata": {
  "kernelspec": {
   "display_name": "Python 3",
   "language": "python",
   "name": "python3"
  },
  "language_info": {
   "codemirror_mode": {
    "name": "ipython",
    "version": 2
   },
   "file_extension": ".py",
   "mimetype": "text/x-python",
   "name": "python",
   "nbconvert_exporter": "python",
   "pygments_lexer": "ipython2",
   "version": "2.7.6"
  }
 },
 "nbformat": 4,
 "nbformat_minor": 0
}